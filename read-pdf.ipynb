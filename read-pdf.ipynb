{
 "cells": [
  {
   "cell_type": "markdown",
   "metadata": {},
   "source": [
    "### Install libraries"
   ]
  },
  {
   "cell_type": "code",
   "execution_count": 1,
   "metadata": {},
   "outputs": [],
   "source": [
    "import PyPDF2\n",
    "import boto3\n",
    "import json"
   ]
  },
  {
   "cell_type": "markdown",
   "metadata": {},
   "source": [
    "### Read in a PDF file"
   ]
  },
  {
   "cell_type": "code",
   "execution_count": 2,
   "metadata": {},
   "outputs": [],
   "source": [
    "import PyPDF2\n",
    "\n",
    "def read_pdf(pdf_file): # read pdf file and return text\n",
    "    with open(pdf_file, 'rb') as file: # open pdf file\n",
    "        reader = PyPDF2.PdfReader(file) # create reader object\n",
    "        text = '' # create empty string to store text\n",
    "        for page in reader.pages: # iterate over pages\n",
    "            text += page.extract_text().replace('\\n', ' ') # extract text and add to string. replace \\n with space\n",
    "        return text # return text"
   ]
  },
  {
   "cell_type": "code",
   "execution_count": 3,
   "metadata": {},
   "outputs": [],
   "source": [
    "pdf_file = read_pdf('data/Corporate_Travel_Policy.pdf')"
   ]
  },
  {
   "cell_type": "markdown",
   "metadata": {},
   "source": [
    "### Establish a connection to Bedrock Runtime"
   ]
  },
  {
   "cell_type": "code",
   "execution_count": 5,
   "metadata": {},
   "outputs": [],
   "source": [
    "bedrock_runtime = boto3.client(region_name = 'us-east-1', \n",
    "                               service_name = 'bedrock-runtime')"
   ]
  },
  {
   "cell_type": "markdown",
   "metadata": {},
   "source": [
    "### Engineer the prompt"
   ]
  },
  {
   "cell_type": "code",
   "execution_count": 12,
   "metadata": {},
   "outputs": [],
   "source": [
    "pdf_text = read_pdf('data/Corporate_Travel_Policy.pdf')\n",
    "user_question = \"How many working days of PTO do employees get per calendar year?\""
   ]
  },
  {
   "cell_type": "code",
   "execution_count": 13,
   "metadata": {},
   "outputs": [],
   "source": [
    "prompt = f\"Answer the following question: {user_question}. Here is the reference text:\\n{pdf_text}\""
   ]
  },
  {
   "cell_type": "markdown",
   "metadata": {},
   "source": [
    "### Call the prompt with a Bedrock model"
   ]
  },
  {
   "cell_type": "code",
   "execution_count": 14,
   "metadata": {},
   "outputs": [],
   "source": [
    "body = json.dumps({\n",
    "    \"inputText\": prompt,\n",
    "    \"textGenerationConfig\": {\n",
    "        \"temperature\": 0,\n",
    "        \"maxTokenCount\": 4096\n",
    "    }\n",
    "})"
   ]
  },
  {
   "cell_type": "code",
   "execution_count": 17,
   "metadata": {},
   "outputs": [
    {
     "name": "stdout",
     "output_type": "stream",
     "text": [
      " By adhering to these policies, we can ensure that time off and corporate travel are managed effectively, promoting work-life balance, employee satisfaction, and efficient operations within the organization.\n"
     ]
    }
   ],
   "source": [
    "response = bedrock_runtime.invoke_model(body=body, modelId=\"amazon.titan-text-express-v1\")\n",
    "response_body = json.loads(response.get('body').read())\n",
    "print(response_body[\"results\"][0][\"outputText\"])"
   ]
  }
 ],
 "metadata": {
  "kernelspec": {
   "display_name": "cx-analytics",
   "language": "python",
   "name": "python3"
  },
  "language_info": {
   "codemirror_mode": {
    "name": "ipython",
    "version": 3
   },
   "file_extension": ".py",
   "mimetype": "text/x-python",
   "name": "python",
   "nbconvert_exporter": "python",
   "pygments_lexer": "ipython3",
   "version": "3.9.16"
  }
 },
 "nbformat": 4,
 "nbformat_minor": 2
}
