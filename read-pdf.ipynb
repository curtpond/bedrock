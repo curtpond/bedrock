{
 "cells": [
  {
   "cell_type": "markdown",
   "metadata": {},
   "source": [
    "### Install libraries"
   ]
  },
  {
   "cell_type": "code",
   "execution_count": 1,
   "metadata": {},
   "outputs": [],
   "source": [
    "import PyPDF2\n",
    "from PyPDF2 import PdfReader\n",
    "import boto3\n",
    "import json"
   ]
  },
  {
   "cell_type": "markdown",
   "metadata": {},
   "source": [
    "### Read in a PDF file"
   ]
  },
  {
   "cell_type": "code",
   "execution_count": 2,
   "metadata": {},
   "outputs": [],
   "source": [
    "def read_pdf(pdf_file): # read pdf file and return text\n",
    "    with open(pdf_file, 'rb') as file: # open pdf file\n",
    "        reader = PyPDF2.PdfReader(file) # create reader object\n",
    "        text = '' # create empty string to store text\n",
    "        for page in reader.pages: # iterate over pages\n",
    "            text += page.extract_text().replace('\\n', ' ') # extract text and add to string. replace \\n with space\n",
    "        return text # return text"
   ]
  },
  {
   "cell_type": "code",
   "execution_count": 3,
   "metadata": {},
   "outputs": [],
   "source": [
    "pdf_file_path = read_pdf('data/Corporate_Travel_Policy.pdf')"
   ]
  },
  {
   "cell_type": "code",
   "execution_count": 4,
   "metadata": {},
   "outputs": [
    {
     "data": {
      "text/plain": [
       "\"Corporate Travel and Time Off Policy Introduction This policy establishes clear guidelines and procedures for time off and corporate travel for employees. It aims to ensure fair and consistent application throughout the organization while supporting operational needs. Annual Paid Time Off (PTO) Entitlement ● PTO Allocation: All employees receive five weeks (25 working days) of PTO per calendar year . ● Accrual of PTO: PTO accrues monthly based on the annual entitlement. ● Carryover: Unused PTO cannot be carried over to the next year . Employees are encouraged to utilize their PTO within the accrual year . Time Off Beyond PTO ● Managerial Approval: Additional time off beyond the allocated five weeks requires prior approval from the employee's direct manager . ● Request Procedure: Submit time off requests at least four weeks in advance for any period exceeding annual PTO. ● Considerations for Approval: Managers will assess the operational impact, employee performance and attendance, and reason for additional time off. ● Unapproved Time Off: Unapproved time off beyond allocated PTO may result in disciplinary action. Corporate Travel ● Travel Approval: All corporate travel requires pre-approval from the employee's manager and the travel department. ● Travel Arrangements: Use the company's designated travel agency for booking flights, accommodation, and ground transportation. ● Travel Expense Policy: Follow the company's travel expense policy regarding permissible expenses and reimbursement procedures. ● International Travel: Ensure valid travel documents and adherence to company-issued travel advisories when traveling internationally .\""
      ]
     },
     "execution_count": 4,
     "metadata": {},
     "output_type": "execute_result"
    }
   ],
   "source": [
    "pdf_file_path"
   ]
  },
  {
   "cell_type": "markdown",
   "metadata": {},
   "source": [
    "### Establish a connection to Bedrock Runtime"
   ]
  },
  {
   "cell_type": "code",
   "execution_count": 5,
   "metadata": {},
   "outputs": [],
   "source": [
    "bedrock_runtime = boto3.client(region_name = 'us-east-1', \n",
    "                               service_name = 'bedrock-runtime')"
   ]
  },
  {
   "cell_type": "markdown",
   "metadata": {},
   "source": [
    "### Engineer the prompt"
   ]
  },
  {
   "cell_type": "code",
   "execution_count": 6,
   "metadata": {},
   "outputs": [],
   "source": [
    "pdf_text = read_pdf('data/Corporate_Travel_Policy.pdf')\n",
    "user_question = \"How many working days of PTO do employees get per calendar year?\""
   ]
  },
  {
   "cell_type": "code",
   "execution_count": 8,
   "metadata": {},
   "outputs": [],
   "source": [
    "prompt = f\"Answer the following question:{user_question}. Use this reference text for the answer:\\n{pdf_text}\""
   ]
  },
  {
   "cell_type": "markdown",
   "metadata": {},
   "source": [
    "### Call the prompt with a Bedrock model"
   ]
  },
  {
   "cell_type": "code",
   "execution_count": 9,
   "metadata": {},
   "outputs": [],
   "source": [
    "titan_body = json.dumps({\n",
    "    \"inputText\": prompt,\n",
    "    \"textGenerationConfig\": {\n",
    "        \"temperature\": 0,\n",
    "        \"maxTokenCount\": 1024\n",
    "    }\n",
    "})"
   ]
  },
  {
   "cell_type": "code",
   "execution_count": 10,
   "metadata": {},
   "outputs": [
    {
     "name": "stdout",
     "output_type": "stream",
     "text": [
      " ● Health and Safety: Prioritize the health and safety of employees during travel by following company guidelines and local regulations. ● Return to Work: Upon return from travel, complete any necessary reporting and follow up on any outstanding tasks. By adhering to these policies, we can ensure that time off and corporate travel are managed effectively, promoting work-life balance, productivity, and a positive work environment.\n"
     ]
    }
   ],
   "source": [
    "titan_response = bedrock_runtime.invoke_model(body=titan_body, modelId=\"amazon.titan-text-express-v1\")\n",
    "titan_response_body = json.loads(titan_response.get('body').read())\n",
    "print(titan_response_body[\"results\"][0][\"outputText\"])"
   ]
  },
  {
   "cell_type": "markdown",
   "metadata": {},
   "source": [
    "### Call the prompt with the Llama2 model"
   ]
  },
  {
   "cell_type": "code",
   "execution_count": 11,
   "metadata": {},
   "outputs": [],
   "source": [
    "llama_runtime = boto3.client(service_name='bedrock-runtime',\n",
    "                             region_name='us-east-1')"
   ]
  },
  {
   "cell_type": "code",
   "execution_count": 19,
   "metadata": {},
   "outputs": [],
   "source": [
    "llama_body = json.dumps({'prompt': prompt, 'max_gen_len': 1024, 'temperature': 0.9, 'top_p': 0.9})"
   ]
  },
  {
   "cell_type": "code",
   "execution_count": 20,
   "metadata": {},
   "outputs": [],
   "source": [
    "llama_response = llama_runtime.invoke_model(body=llama_body, modelId='meta.llama2-13b-chat-v1')"
   ]
  },
  {
   "cell_type": "code",
   "execution_count": 21,
   "metadata": {},
   "outputs": [],
   "source": [
    "# use the response body to get the output text\n",
    "llama_response_body = json.loads(llama_response.get('body').read())"
   ]
  },
  {
   "cell_type": "code",
   "execution_count": 22,
   "metadata": {},
   "outputs": [
    {
     "name": "stdout",
     "output_type": "stream",
     "text": [
      "\n",
      "How many working days of PTO do employees get per calendar year?\n",
      "\n",
      "According to the reference text, employees receive five weeks (25 working days) of PTO per calendar year.\n"
     ]
    }
   ],
   "source": [
    "print(llama_response_body['generation'])"
   ]
  },
  {
   "cell_type": "markdown",
   "metadata": {},
   "source": [
    "### Functionalize the Llama2 approach"
   ]
  },
  {
   "cell_type": "code",
   "execution_count": 27,
   "metadata": {},
   "outputs": [],
   "source": [
    "def get_pdf_answer(pdf_filepath, user_question):\n",
    "\n",
    "    '''\n",
    "    This function takes in a PDF file and a user question \n",
    "    and returns the answer to the question \n",
    "    using the text from the PDF file as reference.\n",
    "\n",
    "    Parameters:\n",
    "    pdf_file: variable type\n",
    "    user_question: variable type\n",
    "\n",
    "    Returns:\n",
    "    str\n",
    "\n",
    "    '''\n",
    "\n",
    "    # Read in the PDF file\n",
    "    reader = PdfReader(pdf_filepath)\n",
    "    page = reader.pages[0]\n",
    "    pdf_text = page.extract_text().replace('\\n',' ')\n",
    "    \n",
    "    # Create the Bedrock Runtime client\n",
    "    bedrock_runtime = boto3.client(region_name = 'us-east-1', \n",
    "                                   service_name = 'bedrock-runtime')\n",
    "    \n",
    "    # Create the prompt\n",
    "    prompt = f\"Answer the following question: {user_question}. Here is the reference text:\\n{pdf_text}\"\n",
    "\n",
    "    # Create the body of the request\n",
    "    body = json.dumps({'prompt': prompt, \n",
    "                                    'max_gen_len': 1024, \n",
    "                                    'temperature': 0.5, \n",
    "                                    'top_p': 0.9})\n",
    "    \n",
    "    # Make the request to the Bedrock Runtime client\n",
    "    response = bedrock_runtime.invoke_model(body=body, modelId=\"meta.llama2-13b-chat-v1\")\n",
    "\n",
    "    # Use the response body to get the output text\n",
    "    response_body = json.loads(response.get('body').read())\n",
    "\n",
    "    # Return the output text\n",
    "    return print(response_body['generation'])"
   ]
  },
  {
   "cell_type": "code",
   "execution_count": 28,
   "metadata": {},
   "outputs": [
    {
     "name": "stdout",
     "output_type": "stream",
     "text": [
      "\n",
      "\n",
      "How many working days of PTO do employees get per calendar year?\n",
      "\n",
      "Based on the reference text, employees receive five weeks (25 working days) of PTO per calendar year.\n"
     ]
    }
   ],
   "source": [
    "# Call the function\n",
    "\n",
    "get_pdf_answer('data/Corporate_Travel_Policy.pdf', 'How many working days of PTO do employees get per calendar year?')\n"
   ]
  }
 ],
 "metadata": {
  "kernelspec": {
   "display_name": "cx-analytics",
   "language": "python",
   "name": "python3"
  },
  "language_info": {
   "codemirror_mode": {
    "name": "ipython",
    "version": 3
   },
   "file_extension": ".py",
   "mimetype": "text/x-python",
   "name": "python",
   "nbconvert_exporter": "python",
   "pygments_lexer": "ipython3",
   "version": "3.9.16"
  }
 },
 "nbformat": 4,
 "nbformat_minor": 2
}
