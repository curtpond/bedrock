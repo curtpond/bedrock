{
 "cells": [
  {
   "cell_type": "markdown",
   "metadata": {},
   "source": [
    "### Install libraries"
   ]
  },
  {
   "cell_type": "code",
   "execution_count": 18,
   "metadata": {},
   "outputs": [],
   "source": [
    "import boto3\n",
    "import json"
   ]
  },
  {
   "cell_type": "markdown",
   "metadata": {},
   "source": [
    "### Read in the transcript"
   ]
  },
  {
   "cell_type": "code",
   "execution_count": 1,
   "metadata": {},
   "outputs": [],
   "source": [
    "with open ('data/03-Call-Transcript.txt') as file:\n",
    "    transcript = file.read()"
   ]
  },
  {
   "cell_type": "code",
   "execution_count": null,
   "metadata": {},
   "outputs": [],
   "source": [
    "#print(transcript)"
   ]
  },
  {
   "cell_type": "markdown",
   "metadata": {},
   "source": [
    "### Connect to the model on AWS"
   ]
  },
  {
   "cell_type": "code",
   "execution_count": 2,
   "metadata": {},
   "outputs": [],
   "source": [
    "import boto3\n",
    "\n",
    "bedrock_runtime = boto3.client(region_name = 'us-east-1', \n",
    "                               service_name = 'bedrock-runtime')"
   ]
  },
  {
   "cell_type": "markdown",
   "metadata": {},
   "source": [
    "### Engineer the prompt"
   ]
  },
  {
   "cell_type": "code",
   "execution_count": 13,
   "metadata": {},
   "outputs": [],
   "source": [
    "prompt = f\"Summarize this call transcript. Do not go above three very short sentences. Also, create a bullet point list of follow up action items for the salespeople. \\n{transcript}\""
   ]
  },
  {
   "cell_type": "code",
   "execution_count": null,
   "metadata": {},
   "outputs": [],
   "source": [
    "#print(prompt)"
   ]
  },
  {
   "cell_type": "markdown",
   "metadata": {},
   "source": [
    "### Tune parameters"
   ]
  },
  {
   "cell_type": "code",
   "execution_count": 14,
   "metadata": {},
   "outputs": [],
   "source": [
    "import json\n",
    "body = json.dumps({'inputText': prompt,\n",
    "                   'textGenerationConfig':{'temperature':0, 'maxTokenCount': 500}\n",
    "                   })"
   ]
  },
  {
   "cell_type": "code",
   "execution_count": 15,
   "metadata": {},
   "outputs": [],
   "source": [
    "response = bedrock_runtime.invoke_model(body=body,\n",
    "                                        modelId='amazon.titan-text-express-v1')"
   ]
  },
  {
   "cell_type": "code",
   "execution_count": 16,
   "metadata": {},
   "outputs": [],
   "source": [
    "response_body = json.loads(response.get('body').read())"
   ]
  },
  {
   "cell_type": "code",
   "execution_count": 17,
   "metadata": {},
   "outputs": [
    {
     "name": "stdout",
     "output_type": "stream",
     "text": [
      "\n",
      "Here is a summary of the call transcript:\n",
      "\n",
      "Mike Salesperson from SecureTech Solutions reached out to Claire, a potential client, to discuss their cybersecurity needs. Claire expressed their priority in enhancing their SQL database security and expressed interest in exploring new software solutions. Mike explained that SecureTech Solutions offers a robust cybersecurity suite specifically designed for SQL database security, including advanced encryption methods, real-time threat monitoring, and custom solutions. He highlighted the AI-driven threat detection and layered security approach of their solution. Claire inquired about the implementation process and compatibility with their complex system. Mike assured them that their software is engineered for easy integration and provided a dedicated support team to assist with the integration. Claire also expressed their specific customization needs, to which Mike confirmed that their solutions are highly customizable. They discussed the pricing model, which is flexible and based on the specific services required. Claire requested an initial proposal and agreed to schedule a follow-up call to discuss the details further. Mike mentioned that he would include information on their comprehensive data protection and intrusion detection capabilities in the proposal.\n",
      "\n",
      "Here is a list of follow up action items for the salespeople:\n",
      "\n",
      "• Prepare and send an initial proposal covering SQL database security solutions and pricing.\n",
      "• Include potential times for a follow-up call in the email.\n",
      "• Address Claire's interest in enhancing their overall data protection and intrusion detection systems in the proposal.\n",
      "• Follow up with Claire promptly to schedule the follow-up call and address any additional questions or concerns.\n"
     ]
    }
   ],
   "source": [
    "print(response_body['results'][0]['outputText'])"
   ]
  },
  {
   "cell_type": "markdown",
   "metadata": {},
   "source": [
    "### Functionalize the process"
   ]
  },
  {
   "cell_type": "code",
   "execution_count": 20,
   "metadata": {},
   "outputs": [],
   "source": [
    "def summary_and_action_items(transcript_file_path):\n",
    "\n",
    "    # Read the transcript file\n",
    "    with open (transcript_file_path) as file:\n",
    "        transcript = file.read()\n",
    "\n",
    "    # Create a client for the Bedrock Runtime\n",
    "    bedrock_runtime = boto3.client(region_name = 'us-east-1', \n",
    "                               service_name = 'bedrock-runtime')\n",
    "    # Create a prompt\n",
    "    prompt = f\"Summarize this call transcript. Do not go above three very short sentences. Also, create a bullet point list of follow up action items for the salespeople. \\n{transcript}\"\n",
    "\n",
    "    # Invoke the model\n",
    "    body = json.dumps({'inputText': prompt,\n",
    "                   'textGenerationConfig':{'temperature':0, 'maxTokenCount': 500}\n",
    "                   })\n",
    "    # Get the response\n",
    "    response = bedrock_runtime.invoke_model(body=body,\n",
    "                                        modelId='amazon.titan-text-express-v1')\n",
    "    response_body = json.loads(response.get('body').read())\n",
    "    return response_body['results'][0]['outputText']"
   ]
  },
  {
   "cell_type": "code",
   "execution_count": 21,
   "metadata": {},
   "outputs": [
    {
     "name": "stdout",
     "output_type": "stream",
     "text": [
      "\n",
      "Here is a summary of the call transcript:\n",
      "\n",
      "Mike Salesperson from SecureTech Solutions reached out to Claire, a potential client, to discuss their cybersecurity needs. Claire expressed their priority in enhancing their SQL database security and expressed interest in exploring new software solutions. Mike explained that SecureTech Solutions offers a robust cybersecurity suite specifically designed for SQL database security, including advanced encryption methods, real-time threat monitoring, and custom solutions. He highlighted the AI-driven threat detection and layered security approach of their solution. Claire inquired about the implementation process and compatibility with their complex system. Mike assured them that their software is engineered for easy integration and provided a dedicated support team to assist with the integration. Claire also expressed their specific customization needs, to which Mike confirmed that their solutions are highly customizable. They discussed the pricing model, which is flexible and based on the specific services required. Claire requested an initial proposal and agreed to schedule a follow-up call to discuss the details further. Mike mentioned that he would include information on their comprehensive data protection and intrusion detection capabilities in the proposal.\n",
      "\n",
      "Here is a list of follow up action items for the salespeople:\n",
      "\n",
      "• Prepare and send an initial proposal covering SQL database security solutions and pricing.\n",
      "• Include potential times for a follow-up call in the email.\n",
      "• Address Claire's interest in enhancing their overall data protection and intrusion detection systems in the proposal.\n",
      "• Follow up with Claire promptly to schedule the follow-up call and address any additional questions or concerns.\n"
     ]
    }
   ],
   "source": [
    "output = summary_and_action_items('data/03-Call-Transcript.txt')\n",
    "print(output)"
   ]
  }
 ],
 "metadata": {
  "kernelspec": {
   "display_name": "cx-analytics",
   "language": "python",
   "name": "python3"
  },
  "language_info": {
   "codemirror_mode": {
    "name": "ipython",
    "version": 3
   },
   "file_extension": ".py",
   "mimetype": "text/x-python",
   "name": "python",
   "nbconvert_exporter": "python",
   "pygments_lexer": "ipython3",
   "version": "3.9.16"
  }
 },
 "nbformat": 4,
 "nbformat_minor": 2
}
