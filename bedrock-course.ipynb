{
 "cells": [
  {
   "cell_type": "markdown",
   "metadata": {},
   "source": [
    "## Run Amazon Titan"
   ]
  },
  {
   "cell_type": "markdown",
   "metadata": {},
   "source": [
    "### Import libraries"
   ]
  },
  {
   "cell_type": "code",
   "execution_count": 47,
   "metadata": {},
   "outputs": [],
   "source": [
    "import boto3\n",
    "import json"
   ]
  },
  {
   "cell_type": "markdown",
   "metadata": {},
   "source": [
    "### Validate boto3 and AWS access keys are working as expected"
   ]
  },
  {
   "cell_type": "code",
   "execution_count": 48,
   "metadata": {},
   "outputs": [],
   "source": [
    "s3 = boto3.resource('s3')"
   ]
  },
  {
   "cell_type": "markdown",
   "metadata": {},
   "source": [
    "Print out a list of buckets in my AWS account"
   ]
  },
  {
   "cell_type": "code",
   "execution_count": 49,
   "metadata": {},
   "outputs": [
    {
     "name": "stdout",
     "output_type": "stream",
     "text": [
      "australia-fires-021120\n",
      "aws-athena-query-results-945539803218-us-west-2\n",
      "sagemaker-studio-945539803218-8f2ddlbls9h\n",
      "sagemaker-us-west-2-945539803218\n",
      "stable-diffusion-jumpstart-us-west-2-945539803218\n"
     ]
    }
   ],
   "source": [
    "for bucket in s3.buckets.all():\n",
    "    print(bucket.name)"
   ]
  },
  {
   "cell_type": "markdown",
   "metadata": {},
   "source": [
    "### Create a Bedrock client"
   ]
  },
  {
   "cell_type": "code",
   "execution_count": 50,
   "metadata": {},
   "outputs": [],
   "source": [
    "bedrock = boto3.client(service_name='bedrock', region_name='us-east-1')"
   ]
  },
  {
   "cell_type": "code",
   "execution_count": 51,
   "metadata": {},
   "outputs": [],
   "source": [
    "#Optional: Print a lit of all the foundation models in AWS Bedrock\n",
    "#bedrock.list_foundation_models()"
   ]
  },
  {
   "cell_type": "code",
   "execution_count": 52,
   "metadata": {},
   "outputs": [
    {
     "data": {
      "text/plain": [
       "{'ResponseMetadata': {'RequestId': 'ec3a2c86-a8b4-4262-8ef7-44233d3c79cd',\n",
       "  'HTTPStatusCode': 200,\n",
       "  'HTTPHeaders': {'date': 'Thu, 07 Mar 2024 13:33:33 GMT',\n",
       "   'content-type': 'application/json',\n",
       "   'content-length': '402',\n",
       "   'connection': 'keep-alive',\n",
       "   'x-amzn-requestid': 'ec3a2c86-a8b4-4262-8ef7-44233d3c79cd'},\n",
       "  'RetryAttempts': 0},\n",
       " 'modelDetails': {'modelArn': 'arn:aws:bedrock:us-east-1::foundation-model/amazon.titan-text-express-v1',\n",
       "  'modelId': 'amazon.titan-text-express-v1',\n",
       "  'modelName': 'Titan Text G1 - Express',\n",
       "  'providerName': 'Amazon',\n",
       "  'inputModalities': ['TEXT'],\n",
       "  'outputModalities': ['TEXT'],\n",
       "  'responseStreamingSupported': True,\n",
       "  'customizationsSupported': [],\n",
       "  'inferenceTypesSupported': ['ON_DEMAND'],\n",
       "  'modelLifecycle': {'status': 'ACTIVE'}}}"
      ]
     },
     "execution_count": 52,
     "metadata": {},
     "output_type": "execute_result"
    }
   ],
   "source": [
    "bedrock.get_foundation_model(modelIdentifier='amazon.titan-text-express-v1')"
   ]
  },
  {
   "cell_type": "markdown",
   "metadata": {},
   "source": [
    "### Create a prompt and connect to Bedrock-runtime service"
   ]
  },
  {
   "cell_type": "code",
   "execution_count": 53,
   "metadata": {},
   "outputs": [],
   "source": [
    "prompt = \"Write a one-sentence summary of Tijuana.\""
   ]
  },
  {
   "cell_type": "code",
   "execution_count": 54,
   "metadata": {},
   "outputs": [],
   "source": [
    "# Access Bedrock runtime service\n",
    "bedrock_runtime = boto3.client(service_name='bedrock-runtime', region_name='us-east-1')"
   ]
  },
  {
   "cell_type": "code",
   "execution_count": 57,
   "metadata": {},
   "outputs": [],
   "source": [
    "body = json.dumps({'inputText': prompt})"
   ]
  },
  {
   "cell_type": "markdown",
   "metadata": {},
   "source": [
    "This is the actual API request to the model."
   ]
  },
  {
   "cell_type": "code",
   "execution_count": 58,
   "metadata": {},
   "outputs": [],
   "source": [
    "response = bedrock_runtime.invoke_model(body=body,\n",
    "                                            modelId='amazon.titan-text-express-v1')"
   ]
  },
  {
   "cell_type": "markdown",
   "metadata": {},
   "source": [
    "Read from the body of the response."
   ]
  },
  {
   "cell_type": "code",
   "execution_count": 60,
   "metadata": {},
   "outputs": [
    {
     "data": {
      "text/plain": [
       "{'ResponseMetadata': {'RequestId': '940947b7-5de2-45b6-b835-1822ad6a250e',\n",
       "  'HTTPStatusCode': 200,\n",
       "  'HTTPHeaders': {'date': 'Thu, 07 Mar 2024 13:36:59 GMT',\n",
       "   'content-type': 'application/json',\n",
       "   'content-length': '230',\n",
       "   'connection': 'keep-alive',\n",
       "   'x-amzn-requestid': '940947b7-5de2-45b6-b835-1822ad6a250e',\n",
       "   'x-amzn-bedrock-invocation-latency': '1306',\n",
       "   'x-amzn-bedrock-output-token-count': '31',\n",
       "   'x-amzn-bedrock-input-token-count': '11'},\n",
       "  'RetryAttempts': 0},\n",
       " 'contentType': 'application/json',\n",
       " 'body': <botocore.response.StreamingBody at 0x1199b7160>}"
      ]
     },
     "execution_count": 60,
     "metadata": {},
     "output_type": "execute_result"
    }
   ],
   "source": [
    "response"
   ]
  },
  {
   "cell_type": "code",
   "execution_count": 61,
   "metadata": {},
   "outputs": [],
   "source": [
    "response_body = json.loads(response.get('body').read())"
   ]
  },
  {
   "cell_type": "markdown",
   "metadata": {},
   "source": [
    "Print out the response"
   ]
  },
  {
   "cell_type": "code",
   "execution_count": 62,
   "metadata": {},
   "outputs": [
    {
     "name": "stdout",
     "output_type": "stream",
     "text": [
      "\n",
      "Tijuana is a city in Mexico that is known for its vibrant arts scene, delicious cuisine, and close proximity to the U.S. border.\n"
     ]
    }
   ],
   "source": [
    "print(response_body['results'][0]['outputText'])"
   ]
  },
  {
   "cell_type": "markdown",
   "metadata": {},
   "source": [
    "## Run LLama2"
   ]
  },
  {
   "cell_type": "code",
   "execution_count": 63,
   "metadata": {},
   "outputs": [],
   "source": [
    "llama_runtime = boto3.client(service_name='bedrock-runtime',\n",
    "                             region_name='us-east-1')"
   ]
  },
  {
   "cell_type": "code",
   "execution_count": 64,
   "metadata": {},
   "outputs": [],
   "source": [
    "prompt = \"Explain the idea of normal distribution in statistics in the form a hip hop rap song with lyrics.\""
   ]
  },
  {
   "cell_type": "code",
   "execution_count": 66,
   "metadata": {},
   "outputs": [],
   "source": [
    "body = json.dumps({'prompt': prompt, 'max_gen_len': 1024, 'temperature': 0.9, 'top_p': 1})"
   ]
  },
  {
   "cell_type": "code",
   "execution_count": 67,
   "metadata": {},
   "outputs": [],
   "source": [
    "response = llama_runtime.invoke_model(body=body, modelId='meta.llama2-13b-chat-v1')"
   ]
  },
  {
   "cell_type": "code",
   "execution_count": 68,
   "metadata": {},
   "outputs": [
    {
     "data": {
      "text/plain": [
       "{'ResponseMetadata': {'RequestId': 'f0e3427f-0f85-462c-a734-cf558dd5f256',\n",
       "  'HTTPStatusCode': 200,\n",
       "  'HTTPHeaders': {'date': 'Fri, 08 Mar 2024 04:02:48 GMT',\n",
       "   'content-type': 'application/json',\n",
       "   'content-length': '1408',\n",
       "   'connection': 'keep-alive',\n",
       "   'x-amzn-requestid': 'f0e3427f-0f85-462c-a734-cf558dd5f256',\n",
       "   'x-amzn-bedrock-invocation-latency': '11393',\n",
       "   'x-amzn-bedrock-output-token-count': '426',\n",
       "   'x-amzn-bedrock-input-token-count': '22'},\n",
       "  'RetryAttempts': 0},\n",
       " 'contentType': 'application/json',\n",
       " 'body': <botocore.response.StreamingBody at 0x1182653a0>}"
      ]
     },
     "execution_count": 68,
     "metadata": {},
     "output_type": "execute_result"
    }
   ],
   "source": [
    "response"
   ]
  },
  {
   "cell_type": "code",
   "execution_count": 69,
   "metadata": {},
   "outputs": [],
   "source": [
    "response_body = json.loads(response.get('body').read())"
   ]
  },
  {
   "cell_type": "code",
   "execution_count": 70,
   "metadata": {},
   "outputs": [
    {
     "name": "stdout",
     "output_type": "stream",
     "text": [
      "\n",
      "\n",
      "Verse 1:\n",
      "Yo, listen up, I got a story to tell\n",
      "'Bout a curve that's so cool, it's hot as hell\n",
      "It's called normal distribution, it's the bomb\n",
      "It's the way that data spreads, it's not no lie\n",
      "\n",
      "Chorus:\n",
      "Normal distribution, it's the way to go\n",
      "Got my data spread out, you know\n",
      "Followin' the bell, it's the way to flow\n",
      "From the mean to the tail, it's where I grow\n",
      "\n",
      "Verse 2:\n",
      "The mean is the spot where the data's at\n",
      "The median's the same, it's where the data's at\n",
      "The standard deviation, it's the width of the bell\n",
      "It's how spread out the data's doing well\n",
      "\n",
      "Chorus:\n",
      "Normal distribution, it's the way to go\n",
      "Got my data spread out, you know\n",
      "Followin' the bell, it's the way to flow\n",
      "From the mean to the tail, it's where I grow\n",
      "\n",
      "Verse 3:\n",
      "The sixty-eightpercent, that's where the data's at\n",
      "The ninety-five percent, that's where the data's at\n",
      "The mean, the median, they're both the same\n",
      "But the distribution, it's the game\n",
      "\n",
      "Chorus:\n",
      "Normal distribution, it's the way to go\n",
      "Got my data spread out, you know\n",
      "Followin' the bell, it's the way to flow\n",
      "From the mean to the tail, it's where I grow\n",
      "\n",
      "Outro:\n",
      "So there you have it, the normal distri\n",
      "It's the way that data's distributed, it's undeni\n",
      "So next time you see a curve, you'll know what's up\n",
      "It's the normal distribution, it's not no cup.\n"
     ]
    }
   ],
   "source": [
    "print(response_body['generation'])"
   ]
  }
 ],
 "metadata": {
  "kernelspec": {
   "display_name": "cx-analytics",
   "language": "python",
   "name": "python3"
  },
  "language_info": {
   "codemirror_mode": {
    "name": "ipython",
    "version": 3
   },
   "file_extension": ".py",
   "mimetype": "text/x-python",
   "name": "python",
   "nbconvert_exporter": "python",
   "pygments_lexer": "ipython3",
   "version": "3.9.16"
  }
 },
 "nbformat": 4,
 "nbformat_minor": 2
}
