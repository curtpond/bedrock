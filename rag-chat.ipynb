{
 "cells": [
  {
   "cell_type": "markdown",
   "metadata": {},
   "source": [
    "### Import libraries"
   ]
  },
  {
   "cell_type": "code",
   "execution_count": 23,
   "metadata": {},
   "outputs": [],
   "source": [
    "import boto3\n",
    "import json\n",
    "import os\n",
    "import pandas as pd\n",
    "import numpy as np"
   ]
  },
  {
   "cell_type": "markdown",
   "metadata": {},
   "source": [
    "### Create Bedrock runtime"
   ]
  },
  {
   "cell_type": "code",
   "execution_count": 2,
   "metadata": {},
   "outputs": [],
   "source": [
    "bedrock_runtime = boto3.client(region_name = 'us-east-1', service_name='bedrock-runtime')"
   ]
  },
  {
   "cell_type": "code",
   "execution_count": 3,
   "metadata": {},
   "outputs": [],
   "source": [
    "def embed_text(text):\n",
    "    '''\n",
    "    INPUT: str\n",
    "    OUTPUT: embedding, either Python list or a Numpy array\n",
    "    '''\n",
    "    json_request = {'inputText': text}\n",
    "    body = json.dumps(json_request)\n",
    "    response = bedrock_runtime.invoke_model(body=body, modelId = 'amazon.titan-embed-text-v1')\n",
    "    return json.loads(response.get('body').read())['embedding']"
   ]
  },
  {
   "cell_type": "code",
   "execution_count": 18,
   "metadata": {},
   "outputs": [],
   "source": [
    "PATH = \"bedrock-aws/00-Sports-Articles\"\n",
    "\n",
    "data = []\n",
    "\n",
    "for filename in os.listdir(PATH):\n",
    "    if filename.endswith('txt'):\n",
    "        file_path = os.path.join(PATH, filename)\n",
    "\n",
    "        with open(file_path, 'r', encoding='utf-8') as file:\n",
    "            content = file.read()\n",
    "\n",
    "        data.append([file_path, content])"
   ]
  },
  {
   "cell_type": "code",
   "execution_count": 20,
   "metadata": {},
   "outputs": [
    {
     "data": {
      "text/html": [
       "<div>\n",
       "<style scoped>\n",
       "    .dataframe tbody tr th:only-of-type {\n",
       "        vertical-align: middle;\n",
       "    }\n",
       "\n",
       "    .dataframe tbody tr th {\n",
       "        vertical-align: top;\n",
       "    }\n",
       "\n",
       "    .dataframe thead th {\n",
       "        text-align: right;\n",
       "    }\n",
       "</style>\n",
       "<table border=\"1\" class=\"dataframe\">\n",
       "  <thead>\n",
       "    <tr style=\"text-align: right;\">\n",
       "      <th></th>\n",
       "      <th>filename</th>\n",
       "      <th>text</th>\n",
       "    </tr>\n",
       "  </thead>\n",
       "  <tbody>\n",
       "    <tr>\n",
       "      <th>0</th>\n",
       "      <td>bedrock-aws/00-Sports-Articles/BasketballGame.txt</td>\n",
       "      <td>Nail-Biting Overtime Battle Sees Lakers Triump...</td>\n",
       "    </tr>\n",
       "    <tr>\n",
       "      <th>1</th>\n",
       "      <td>bedrock-aws/00-Sports-Articles/BaseballGame.txt</td>\n",
       "      <td>Extra-Inning Thriller: Yankees Outlast Red Sox...</td>\n",
       "    </tr>\n",
       "    <tr>\n",
       "      <th>2</th>\n",
       "      <td>bedrock-aws/00-Sports-Articles/FootballGame.txt</td>\n",
       "      <td>Epic Clash between 49ers and Buccaneers Ends i...</td>\n",
       "    </tr>\n",
       "  </tbody>\n",
       "</table>\n",
       "</div>"
      ],
      "text/plain": [
       "                                            filename   \n",
       "0  bedrock-aws/00-Sports-Articles/BasketballGame.txt  \\\n",
       "1    bedrock-aws/00-Sports-Articles/BaseballGame.txt   \n",
       "2    bedrock-aws/00-Sports-Articles/FootballGame.txt   \n",
       "\n",
       "                                                text  \n",
       "0  Nail-Biting Overtime Battle Sees Lakers Triump...  \n",
       "1  Extra-Inning Thriller: Yankees Outlast Red Sox...  \n",
       "2  Epic Clash between 49ers and Buccaneers Ends i...  "
      ]
     },
     "execution_count": 20,
     "metadata": {},
     "output_type": "execute_result"
    }
   ],
   "source": [
    "df = pd.DataFrame(data, columns=['filename', 'text'])\n",
    "df"
   ]
  },
  {
   "cell_type": "markdown",
   "metadata": {},
   "source": [
    "### Create embeddings"
   ]
  },
  {
   "cell_type": "code",
   "execution_count": 22,
   "metadata": {},
   "outputs": [
    {
     "data": {
      "text/html": [
       "<div>\n",
       "<style scoped>\n",
       "    .dataframe tbody tr th:only-of-type {\n",
       "        vertical-align: middle;\n",
       "    }\n",
       "\n",
       "    .dataframe tbody tr th {\n",
       "        vertical-align: top;\n",
       "    }\n",
       "\n",
       "    .dataframe thead th {\n",
       "        text-align: right;\n",
       "    }\n",
       "</style>\n",
       "<table border=\"1\" class=\"dataframe\">\n",
       "  <thead>\n",
       "    <tr style=\"text-align: right;\">\n",
       "      <th></th>\n",
       "      <th>filename</th>\n",
       "      <th>text</th>\n",
       "      <th>embedding</th>\n",
       "    </tr>\n",
       "  </thead>\n",
       "  <tbody>\n",
       "    <tr>\n",
       "      <th>0</th>\n",
       "      <td>bedrock-aws/00-Sports-Articles/BasketballGame.txt</td>\n",
       "      <td>Nail-Biting Overtime Battle Sees Lakers Triump...</td>\n",
       "      <td>[-0.063942306, 0.14368992, -0.018919019, -0.17...</td>\n",
       "    </tr>\n",
       "    <tr>\n",
       "      <th>1</th>\n",
       "      <td>bedrock-aws/00-Sports-Articles/BaseballGame.txt</td>\n",
       "      <td>Extra-Inning Thriller: Yankees Outlast Red Sox...</td>\n",
       "      <td>[0.2353478, -0.14758441, -0.22002964, -0.30111...</td>\n",
       "    </tr>\n",
       "    <tr>\n",
       "      <th>2</th>\n",
       "      <td>bedrock-aws/00-Sports-Articles/FootballGame.txt</td>\n",
       "      <td>Epic Clash between 49ers and Buccaneers Ends i...</td>\n",
       "      <td>[-0.48678175, -0.11641871, -0.38582614, 0.0014...</td>\n",
       "    </tr>\n",
       "  </tbody>\n",
       "</table>\n",
       "</div>"
      ],
      "text/plain": [
       "                                            filename   \n",
       "0  bedrock-aws/00-Sports-Articles/BasketballGame.txt  \\\n",
       "1    bedrock-aws/00-Sports-Articles/BaseballGame.txt   \n",
       "2    bedrock-aws/00-Sports-Articles/FootballGame.txt   \n",
       "\n",
       "                                                text   \n",
       "0  Nail-Biting Overtime Battle Sees Lakers Triump...  \\\n",
       "1  Extra-Inning Thriller: Yankees Outlast Red Sox...   \n",
       "2  Epic Clash between 49ers and Buccaneers Ends i...   \n",
       "\n",
       "                                           embedding  \n",
       "0  [-0.063942306, 0.14368992, -0.018919019, -0.17...  \n",
       "1  [0.2353478, -0.14758441, -0.22002964, -0.30111...  \n",
       "2  [-0.48678175, -0.11641871, -0.38582614, 0.0014...  "
      ]
     },
     "execution_count": 22,
     "metadata": {},
     "output_type": "execute_result"
    }
   ],
   "source": [
    "df['embedding'] = df['text'].apply(embed_text)\n",
    "df"
   ]
  },
  {
   "cell_type": "markdown",
   "metadata": {},
   "source": [
    "### Create cosine similarity"
   ]
  },
  {
   "cell_type": "code",
   "execution_count": 24,
   "metadata": {},
   "outputs": [],
   "source": [
    "def cosine_similarity(v1, v2):\n",
    "    vector1 = np.array(v1)\n",
    "    vector2 = np.array(v2)\n",
    "    \n",
    "    dot_product = np.dot(np.array(v1), np.array(v2))\n",
    "    magnitude_v1 = np.linalg.norm(v1)\n",
    "    magnitude_v2 = np.linalg.norm(v2)\n",
    "\n",
    "    return dot_product / (magnitude_v1 * magnitude_v2)"
   ]
  },
  {
   "cell_type": "markdown",
   "metadata": {},
   "source": [
    "### Create embedding for prompt"
   ]
  },
  {
   "cell_type": "code",
   "execution_count": 25,
   "metadata": {},
   "outputs": [],
   "source": [
    "def most_similar_text(prompt):\n",
    "    prompt_embedding = embed_text(prompt)\n",
    "    df['prompt_similarity'] = df['embedding'].apply(lambda vector: cosine_similarity(vector, prompt_embedding))\n",
    "    return df.nlargest(1, 'prompt_similarity').iloc[0]['text']"
   ]
  },
  {
   "cell_type": "code",
   "execution_count": 27,
   "metadata": {},
   "outputs": [
    {
     "name": "stdout",
     "output_type": "stream",
     "text": [
      "Epic Clash between 49ers and Buccaneers Ends in Thrilling Showdown\n",
      "\n",
      "Date: October 15, 2023\n",
      "\n",
      "In a highly anticipated match-up on the gridiron, the San Francisco 49ers squared off against the Tampa Bay Buccaneers on October 15, 2023, in what turned out to be a thrilling display of football prowess. With fans eagerly watching, both teams brought their A-game, resulting in an electrifying contest that will be remembered for years to come.\n",
      "\n",
      "The final scoreline of the game read 27-24 in favor of the 49ers, but the journey to that outcome was nothing short of extraordinary.\n",
      "\n",
      "First Quarter Fireworks:\n",
      "\n",
      "The first quarter set the tone for the entire game as the Buccaneers, led by their star quarterback, Tom Brady, executed a perfectly choreographed drive ending in a touchdown pass to wide receiver Mike Evans. However, the 49ers' defense, known for its tenacity, responded with a crucial interception.\n",
      "\n",
      "Back-and-Forth Battle:\n",
      "\n",
      "As the game unfolded, both teams traded blows with pinpoint passes and strategic runs. The 49ers' young quarterback, Trey Lance, showcased his exceptional athleticism, connecting with veteran tight end George Kittle for a spectacular touchdown. The Buccaneers countered with Brady's precision, finding Antonio Brown in the end zone.\n",
      "\n",
      "A Defensive Duel:\n",
      "\n",
      "The second half witnessed a defensive showdown. The Buccaneers' defense, spearheaded by the formidable Ndamukong Suh, consistently pressured Lance, while the 49ers' secondary held its ground against Brady's aerial assaults.\n",
      "\n",
      "The Final Drive:\n",
      "\n",
      "With minutes remaining on the clock, the 49ers embarked on a game-winning drive, orchestrated by Lance's composure and accuracy. Kicker Robbie Gould, with ice in his veins, nailed a 43-yard field goal as time expired, sealing the 27-24 victory for San Francisco.\n",
      "\n",
      "Post-Game Analysis:\n",
      "\n",
      "This captivating contest between the 49ers and the Buccaneers showcased the essence of football—a game of strategy, skill, and teamwork. It highlighted the talents of both seasoned veterans and emerging stars in the NFL.\n",
      "\n",
      "As fans headed home with memories of a game that will be etched in their hearts, they were reminded that football is more than just a sport; it's a source of excitement, inspiration, and unity.\n",
      "\n",
      "The next chapter in this NFL season promises more breathtaking matchups, and football enthusiasts can't wait to witness the drama unfold once again on the field.\n"
     ]
    }
   ],
   "source": [
    "print(most_similar_text(\"What was the score of the 49ers football game?\"))"
   ]
  },
  {
   "cell_type": "markdown",
   "metadata": {},
   "source": [
    "### Create RAG prompt"
   ]
  },
  {
   "cell_type": "code",
   "execution_count": 28,
   "metadata": {},
   "outputs": [],
   "source": [
    "def llm_with_rag(prompt):\n",
    "    rag_text = most_similar_text(prompt)\n",
    "    full_prompt = f\"{rag_text}\\n\\nANSWER THE FOLLOWING QUESTION:\\n{prompt}\"\n",
    "    body = json.dumps({'inputText': full_prompt})\n",
    "\n",
    "    response = bedrock_runtime.invoke_model(body=body, modelId='amazon.titan-text-express-v1')\n",
    "    response_body = json.loads(response.get('body').read())\n",
    "    return response_body['results'][0]['outputText']"
   ]
  },
  {
   "cell_type": "code",
   "execution_count": 29,
   "metadata": {},
   "outputs": [
    {
     "data": {
      "text/plain": [
       "'\\nThe final score of the 49ers game was 27-24.'"
      ]
     },
     "execution_count": 29,
     "metadata": {},
     "output_type": "execute_result"
    }
   ],
   "source": [
    "llm_with_rag(\"What was the score of the 49ers game?\")"
   ]
  }
 ],
 "metadata": {
  "kernelspec": {
   "display_name": "cx-analytics",
   "language": "python",
   "name": "python3"
  },
  "language_info": {
   "codemirror_mode": {
    "name": "ipython",
    "version": 3
   },
   "file_extension": ".py",
   "mimetype": "text/x-python",
   "name": "python",
   "nbconvert_exporter": "python",
   "pygments_lexer": "ipython3",
   "version": "3.9.16"
  }
 },
 "nbformat": 4,
 "nbformat_minor": 2
}
